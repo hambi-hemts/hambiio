{
 "cells": [
  {
   "cell_type": "code",
   "execution_count": 94,
   "metadata": {
    "collapsed": false
   },
   "outputs": [
    {
     "data": {
      "text/plain": [
       "<module 'hambiio.xls' from 'C:\\Python27\\lib\\site-packages\\hambiio\\xls.pyc'>"
      ]
     },
     "execution_count": 94,
     "metadata": {},
     "output_type": "execute_result"
    }
   ],
   "source": [
    "from hambiio import xls\n",
    "import openpyxl \n",
    "\n",
    "reload(xls)"
   ]
  },
  {
   "cell_type": "code",
   "execution_count": 95,
   "metadata": {
    "collapsed": true
   },
   "outputs": [],
   "source": [
    "wb = openpyxl.load_workbook('demo.xlsx')\n",
    "ws = wb.get_sheet_by_name('Sheet1')"
   ]
  },
  {
   "cell_type": "code",
   "execution_count": 96,
   "metadata": {
    "collapsed": false
   },
   "outputs": [],
   "source": [
    "import datetime\n",
    "\n",
    "xls.writecell(wb, ws, 10, 'D', \n",
    "                  'Now in column D: ' + str(datetime.datetime.now()))\n",
    "\n",
    "xls.writecell(wb, ws, 10, 5,   \n",
    "                  'A bit later: '+ str(datetime.datetime.now()))\n",
    "\n",
    "xls.writecell(wb, ws, 1, 'AA', \n",
    "              'I AM A COLUMN')\n",
    "\n",
    "xls.writecell(wb, ws, 10, 'AA', \n",
    "              'I AM A ROW')"
   ]
  },
  {
   "cell_type": "code",
   "execution_count": 97,
   "metadata": {
    "collapsed": false
   },
   "outputs": [
    {
     "data": {
      "text/plain": [
       "'AA'"
      ]
     },
     "execution_count": 97,
     "metadata": {},
     "output_type": "execute_result"
    }
   ],
   "source": [
    "xls.get_column_string_by_name(wb, \n",
    "                              ws,\n",
    "                               'I AM A COLUMN')"
   ]
  },
  {
   "cell_type": "code",
   "execution_count": 98,
   "metadata": {
    "collapsed": false
   },
   "outputs": [],
   "source": [
    "xls.get_row_index_by_name(wb, \n",
    "                           ws, \n",
    "                           'I AM A ROW')"
   ]
  },
  {
   "cell_type": "code",
   "execution_count": 99,
   "metadata": {
    "collapsed": true
   },
   "outputs": [],
   "source": [
    "mycell = ws.cell(row = 10, column = 30)\n",
    "ws['A10'] = 'I was here!'\n",
    "wb.save(filename)"
   ]
  },
  {
   "cell_type": "code",
   "execution_count": 100,
   "metadata": {
    "collapsed": false
   },
   "outputs": [
    {
     "data": {
      "text/plain": [
       "10000"
      ]
     },
     "execution_count": 100,
     "metadata": {},
     "output_type": "execute_result"
    }
   ],
   "source": [
    "wb = openpyxl.load_workbook('demo.xlsx')\n",
    "ws = wb.get_sheet_by_name('Sheet1')\n",
    "\n",
    "row = xls.get_row_index_by_name(wb, ws, 'A55')\n",
    "col = xls.get_column_index_by_name(wb, ws, 'Current uA')\n",
    "\n",
    "cell = ws.cell(row = row, column = col)\n",
    "cell.value"
   ]
  },
  {
   "cell_type": "code",
   "execution_count": 105,
   "metadata": {
    "collapsed": false
   },
   "outputs": [
    {
     "name": "stderr",
     "output_type": "stream",
     "text": [
      "[NbConvertApp] Using existing profile dir: u'C:\\\\Users\\\\Anna\\\\.ipython\\\\profile_default'\n",
      "[NbConvertApp] Converting notebook Tests.ipynb to html\n",
      "[NbConvertApp] Support files will be in Tests_files\\\n",
      "[NbConvertApp] Loaded template full.tpl\n",
      "[NbConvertApp] Writing 209654 bytes to Tests.html\n"
     ]
    }
   ],
   "source": [
    "!ipython nbconvert Tests.ipynb"
   ]
  },
  {
   "cell_type": "code",
   "execution_count": null,
   "metadata": {
    "collapsed": true
   },
   "outputs": [],
   "source": []
  }
 ],
 "metadata": {
  "kernelspec": {
   "display_name": "Python 2",
   "language": "python",
   "name": "python2"
  },
  "language_info": {
   "codemirror_mode": {
    "name": "ipython",
    "version": 2
   },
   "file_extension": ".py",
   "mimetype": "text/x-python",
   "name": "python",
   "nbconvert_exporter": "python",
   "pygments_lexer": "ipython2",
   "version": "2.7.6"
  }
 },
 "nbformat": 4,
 "nbformat_minor": 0
}
