{
 "cells": [
  {
   "cell_type": "markdown",
   "metadata": {},
   "source": [
    "This file generates the module\n",
    "\n",
    "    * loadalot.py"
   ]
  },
  {
   "cell_type": "code",
   "execution_count": 1,
   "metadata": {
    "collapsed": false
   },
   "outputs": [
    {
     "name": "stdout",
     "output_type": "stream",
     "text": [
      "Overwriting __init__.py\n"
     ]
    }
   ],
   "source": [
    "%%writefile __init__.py\n",
    "\"\"\"\n",
    "\n",
    "\"\"\"\n",
    "\n",
    "__version__ = '0.0.1' \n",
    "\n",
    "from . import xls\n",
    "from . import tiff\n",
    "\n",
    "### global variables ###"
   ]
  },
  {
   "cell_type": "markdown",
   "metadata": {},
   "source": [
    "## Import "
   ]
  },
  {
   "cell_type": "markdown",
   "metadata": {},
   "source": [
    "##tiff "
   ]
  },
  {
   "cell_type": "code",
   "execution_count": 4,
   "metadata": {
    "collapsed": false
   },
   "outputs": [
    {
     "name": "stdout",
     "output_type": "stream",
     "text": [
      "Overwriting tiff.py\n"
     ]
    }
   ],
   "source": [
    "%%writefile tiff.py\n",
    "#!/usr/bin/python\n",
    "# -*- coding: latin-1 -*-\n",
    "\n",
    "from PIL import Image\n",
    "import numpy \n",
    "import string\n",
    "import os, sys\n",
    "import glob\n",
    "\n",
    "def get_pixel_size(tifimage):\n",
    "    \"\"\" \n",
    "    Returns: u'Image Pixel Size = 1.861 nm'\n",
    "    \n",
    "    Usage:\n",
    "        from PIL import Image\n",
    "        tifimage = Image.open(f)\n",
    "    \"\"\"\n",
    "    item_4_1 = tifimage.tag.items()[4][1]\n",
    "    lines = tifimage.tag.items()[4][1].split('\\r\\n')\n",
    "    \n",
    "    entry = None\n",
    "    \n",
    "    for line in lines:\n",
    "        if 'Image Pixel Size' in line:\n",
    "            line.encode('utf-8')\n",
    "            entry = line\n",
    "            break\n",
    "        \n",
    "    entry  = entry.split('=')[1].encode('utf-8')\n",
    "\n",
    "    all_not_digits = string.letters + '.' + ' ' + 'µ'\n",
    "    number = float(entry.translate(None, all_not_digits))\n",
    "    dim    = entry.translate(None, string.digits + '.' + ' ')\n",
    "    \n",
    "    if dim == 'nm':\n",
    "        number = number * 1e-9 \n",
    "    elif dim == 'µm':\n",
    "        number = number * 1e-6\n",
    "    elif dim == 'mm':\n",
    "        number = number * 1e-3\n",
    "    \n",
    "    return number"
   ]
  },
  {
   "cell_type": "code",
   "execution_count": 5,
   "metadata": {
    "collapsed": false
   },
   "outputs": [
    {
     "name": "stdout",
     "output_type": "stream",
     "text": [
      "Appending to tiff.py\n"
     ]
    }
   ],
   "source": [
    "%%writefile -a tiff.py\n",
    "\n",
    "def scale_me(tiffile):\n",
    "    \"\"\" \n",
    "    \n",
    "    Usage:\n",
    "        im = im.convert('RGB')\n",
    "        imarray = numpy.array(im)\n",
    "\n",
    "        x, y = scale_me(f)\n",
    "        mpl.imshow(imarray, cmap = 'Reds', extent = [0, x, 0, y])\n",
    "    \"\"\" \n",
    "    \n",
    "    im = Image.open(tiffile)\n",
    "    imarray = numpy.array(im)\n",
    "    x, y = imarray.shape\n",
    "    pixelsize = get_pixel_size(im)\n",
    "    \n",
    "    return y * pixelsize, x * pixelsize"
   ]
  },
  {
   "cell_type": "markdown",
   "metadata": {},
   "source": [
    "## xls "
   ]
  },
  {
   "cell_type": "code",
   "execution_count": 15,
   "metadata": {
    "collapsed": false
   },
   "outputs": [
    {
     "name": "stdout",
     "output_type": "stream",
     "text": [
      "Overwriting xls.py\n"
     ]
    }
   ],
   "source": [
    "%%writefile xls.py\n",
    "\n",
    "import openpyxl\n",
    "from numpy import arange\n",
    "\n",
    "def writecell(workbook, worksheet, row, column, content):\n",
    "    \"\"\"\n",
    "    workbook  = xlsx filename\n",
    "    worksheet = name\n",
    "    row = number of the row as in the xlsx worksheet \n",
    "    column = str or index\n",
    "    \"\"\"\n",
    "    #wb = workbook #openpyxl.load_workbook(workbook)\n",
    "    #ws = wb.get_sheet_by_name(worksheet)\n",
    "    wb = workbook\n",
    "    ws = worksheet\n",
    "    \n",
    "    if type(column) == int:\n",
    "        column = openpyxl.cell.get_column_letter(column)\n",
    "    \n",
    "    ws[column + str(row)] = content\n",
    "    #wb.save(workbook)\n",
    "    \n",
    "def get_column_string_by_name(workbook, worksheet, column_name, row = 1):\n",
    "    \n",
    "    #wb = workbook #openpyxl.load_workbook(workbook)\n",
    "    #ws = wb.get_sheet_by_name(worksheet)\n",
    "    wb = workbook\n",
    "    ws = worksheet\n",
    "    \n",
    "    max_col = ws.get_highest_column() \n",
    "    max_col = openpyxl.cell.get_column_letter(max_col)\n",
    "    \n",
    "    search_range = 'A'+str(row)+':'+max_col+str(row)\n",
    "    \n",
    "    for row in ws.iter_rows(search_range):\n",
    "        for mycell in row:\n",
    "            if mycell.value == column_name:\n",
    "                xy = openpyxl.cell.coordinate_from_string(mycell.coordinate)\n",
    "                return xy[0] \n",
    "            \n",
    "def get_column_index_by_name(workbook, worksheet, column_name, row = 1):\n",
    "    name = get_column_string_by_name(workbook, worksheet, column_name, row)\n",
    "    return openpyxl.cell.column_index_from_string(name)\n",
    "            \n",
    "def get_row_index_by_name(workbook, worksheet, row_name, column = 'A'):\n",
    "    \n",
    "    #wb = workbook #openpyxl.load_workbook(workbook)\n",
    "    #ws = wb.get_sheet_by_name(worksheet)\n",
    "    wb = workbook\n",
    "    ws = worksheet\n",
    "    \n",
    "    max_row = ws.get_highest_row() \n",
    "    #max_col = openpyxl.cell.get_column_letter(max_col)\n",
    "    \n",
    "    search_range = column+str(1)+':'+column+str(max_row)\n",
    "    \n",
    "    for row in ws.iter_rows(search_range):\n",
    "        for mycell in row:\n",
    "            if mycell.value == row_name:\n",
    "                xy = openpyxl.cell.coordinate_from_string(mycell.coordinate)\n",
    "                return xy[1] \n",
    "\n",
    "def load2dict(worksheet, dev_id):\n",
    "    \"\"\"\n",
    "    :param worksheet: loaded worksheet of an xlrd workbook with one column 'ID' and other columns with more properties\n",
    "        :code:\n",
    "            workbook = xlrd.open_workbook('xls/A3172_S3_Measurements.xlsx')\n",
    "            worksheet = workbook.sheet_by_index(0)\n",
    "    :param dev_id: the name of the device for which will be searched in the column 'ID'\n",
    "    :return: a dictionary with the names of the properties and the value of the device with the ID provided in 'dev_id'\n",
    "    \"\"\"\n",
    "    column = worksheet.col_values(0) # ID\n",
    "\n",
    "    ind0 = [i for i in arange(len(column)) if column[i] == 'ID']\n",
    "    ind0 = int(ind0[0])\n",
    "    keys = worksheet.row_values(ind0)\n",
    "\n",
    "    ind = [i for i in arange(len(column)) if column[i] == dev_id]\n",
    "    ind = int(ind[0])\n",
    "    values = worksheet.row_values(ind)\n",
    "\n",
    "    the_dict = {keys[i] : values[i] for i in arange(len(keys))}\n",
    "\n",
    "    return the_dict"
   ]
  },
  {
   "cell_type": "code",
   "execution_count": 9,
   "metadata": {
    "collapsed": false
   },
   "outputs": [
    {
     "name": "stdout",
     "output_type": "stream",
     "text": [
      "Appending to xls.py\n"
     ]
    }
   ],
   "source": [
    "%%writefile -a xls.py\n",
    "\n",
    "def table2xls(table, ):\n",
    "    \"\"\" table = list of column-lists \"\"\""
   ]
  },
  {
   "cell_type": "code",
   "execution_count": null,
   "metadata": {
    "collapsed": true
   },
   "outputs": [],
   "source": []
  }
 ],
 "metadata": {
  "kernelspec": {
   "display_name": "Python 3",
   "language": "python",
   "name": "python3"
  },
  "language_info": {
   "codemirror_mode": {
    "name": "ipython",
    "version": 3
   },
   "file_extension": ".py",
   "mimetype": "text/x-python",
   "name": "python",
   "nbconvert_exporter": "python",
   "pygments_lexer": "ipython3",
   "version": "3.4.3"
  }
 },
 "nbformat": 4,
 "nbformat_minor": 0
}
